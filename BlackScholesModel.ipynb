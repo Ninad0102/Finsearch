{
 "cells": [
  {
   "cell_type": "code",
   "execution_count": 1,
   "id": "3e062e97-a642-4bb9-9fc9-ad25b7997a27",
   "metadata": {},
   "outputs": [],
   "source": [
    "#Implementing Black-Scholes model in python"
   ]
  },
  {
   "cell_type": "code",
   "execution_count": 2,
   "id": "5ee48b0b-542a-446e-a92d-5fa143a199f5",
   "metadata": {},
   "outputs": [],
   "source": [
    "import numpy as np\n",
    "from scipy.stats import norm"
   ]
  },
  {
   "cell_type": "code",
   "execution_count": 35,
   "id": "7db21f85-25b0-470f-9239-4292014a531b",
   "metadata": {},
   "outputs": [],
   "source": [
    "#define a variable\n",
    "r = 0.07\n",
    "S = 19979.15\n",
    "K = 20000\n",
    "T =  7/365\n",
    "sigma = 0.089"
   ]
  },
  {
   "cell_type": "code",
   "execution_count": 43,
   "id": "fa0893e2-6379-4ac2-8378-18008aed2eca",
   "metadata": {},
   "outputs": [],
   "source": [
    "#create a function\n",
    "\n",
    "def blackScholes(r,S,K,T,sigma,type):\n",
    "    \"Calculate Black-Scholes Option Price for a CE/PE\"\n",
    "    d1 = (np.log(S/K) + (r+sigma**2/2)*T)/(sigma*np.sqrt(T))\n",
    "    d2 = d1-sigma*np.sqrt(T)\n",
    "    try:\n",
    "        if type == \"CE\":\n",
    "            price = S*norm.cdf(d1,0,1)-K*np.exp(-r*T)*norm.cdf(d2,0,1)\n",
    "        elif type == \"PE\":\n",
    "            price = K*np.exp(-r*T)*norm.cfd(-d2,0,-1)-S*norm.cdf(-d1,0,1)\n",
    "        return price\n",
    "    except:\n",
    "        print(\"Please confirm the parameters\") "
   ]
  },
  {
   "cell_type": "code",
   "execution_count": 44,
   "id": "ff9224ae-6cca-4d18-a70e-642727827dc3",
   "metadata": {},
   "outputs": [
    {
     "name": "stdout",
     "output_type": "stream",
     "text": [
      "Option Price is: 101.68\n"
     ]
    }
   ],
   "source": [
    "print(\"Option Price is:\", round(blackScholes(r,S,K,T,sigma,type=\"CE\"),2))"
   ]
  },
  {
   "cell_type": "code",
   "execution_count": null,
   "id": "23b6a189-f087-4440-ae41-932d4b4c3bee",
   "metadata": {},
   "outputs": [],
   "source": []
  }
 ],
 "metadata": {
  "kernelspec": {
   "display_name": "Python 3 (ipykernel)",
   "language": "python",
   "name": "python3"
  },
  "language_info": {
   "codemirror_mode": {
    "name": "ipython",
    "version": 3
   },
   "file_extension": ".py",
   "mimetype": "text/x-python",
   "name": "python",
   "nbconvert_exporter": "python",
   "pygments_lexer": "ipython3",
   "version": "3.9.13"
  }
 },
 "nbformat": 4,
 "nbformat_minor": 5
}
